{
 "cells": [
  {
   "cell_type": "code",
   "execution_count": null,
   "metadata": {},
   "outputs": [],
   "source": [
    "\"\"\"\n",
    "https://leetcode.com/explore/learn/card/array-and-string/201/introduction-to-array/1147/\n",
    "\n",
    "In a given integer array nums, there is always exactly one largest element.\n",
    "\n",
    "Find whether the largest element in the array is at least twice as much as every other number in the array.\n",
    "\n",
    "If it is, return the index of the largest element, otherwise return -1.\n",
    "\"\"\""
   ]
  },
  {
   "cell_type": "code",
   "execution_count": null,
   "metadata": {},
   "outputs": [],
   "source": []
  },
  {
   "cell_type": "code",
   "execution_count": 7,
   "metadata": {},
   "outputs": [
    {
     "name": "stdout",
     "output_type": "stream",
     "text": [
      "nums =  [0, 0, 3, 2]\n",
      "0 -inf\n",
      "0 -inf\n",
      "3 0\n",
      "3 0\n"
     ]
    },
    {
     "data": {
      "text/plain": [
       "2"
      ]
     },
     "execution_count": 7,
     "metadata": {},
     "output_type": "execute_result"
    }
   ],
   "source": [
    "# solution 1, bad\n",
    "class Solution:\n",
    "    def dominantIndex(self, nums):\n",
    "        \"\"\"\n",
    "        :type nums: List[int]\n",
    "        :rtype: int\n",
    "        \"\"\"\n",
    "        if len(nums) == 1:\n",
    "            return 0\n",
    "        largest = -float('inf')\n",
    "        second_largest = -float('inf')\n",
    "        for i in range(0, len(nums)):\n",
    "            current = nums[i]\n",
    "            if current > largest:\n",
    "                second_largest = largest\n",
    "                largest = current\n",
    "            print(largest, second_largest)                \n",
    "#             if current > second_largest:\n",
    "#                 second_largest = current\n",
    "#             print(largest, second_largest)\n",
    "        if largest >= 2 * second_largest:\n",
    "            return nums.index(largest)\n",
    "        return -1\n",
    "\n",
    "print('nums = ', [0,0,3,2])\n",
    "Solution.dominantIndex(Solution, [0,0,3,2])"
   ]
  },
  {
   "cell_type": "markdown",
   "metadata": {},
   "source": [
    "### Comment\n",
    "The problem here is it can't deal with the special case where max is at the second to last and the last num will be the second_max. We can fix it by putting this as a special case...but that's not a good solution."
   ]
  },
  {
   "cell_type": "code",
   "execution_count": 15,
   "metadata": {},
   "outputs": [
    {
     "name": "stdout",
     "output_type": "stream",
     "text": [
      "nums =  [0, 0, 3, 2]\n",
      "-1\n",
      "nums =  [0, 0, 0, 1]\n",
      "3\n"
     ]
    }
   ],
   "source": [
    "# Solution 2, two iterations\n",
    "class Solution:\n",
    "    def dominantIndex(self, nums):\n",
    "        \"\"\"\n",
    "        :type nums: List[int]\n",
    "        :rtype: int\n",
    "        \"\"\"        \n",
    "        if len(nums) == 1:\n",
    "            return 0\n",
    "        largest = -float('inf')\n",
    "        for i, num in enumerate(nums):\n",
    "            if num > largest:\n",
    "                largest = num\n",
    "                index = i\n",
    "                \n",
    "        for j, num in enumerate(nums):\n",
    "            if (2 * num > largest) and (num != largest):\n",
    "                return -1\n",
    "        return index\n",
    "            \n",
    "\n",
    "print('nums = ', [0,0,3,2])\n",
    "print(Solution.dominantIndex(Solution, [0,0,3,2]))\n",
    "\n",
    "print('nums = ', [0,0,0,1])\n",
    "print(Solution.dominantIndex(Solution, [0,0,0,1]))\n"
   ]
  },
  {
   "cell_type": "markdown",
   "metadata": {},
   "source": [
    "### Comment\n",
    "This one workds and run"
   ]
  }
 ],
 "metadata": {
  "kernelspec": {
   "display_name": "Python 3",
   "language": "python",
   "name": "python3"
  },
  "language_info": {
   "codemirror_mode": {
    "name": "ipython",
    "version": 3
   },
   "file_extension": ".py",
   "mimetype": "text/x-python",
   "name": "python",
   "nbconvert_exporter": "python",
   "pygments_lexer": "ipython3",
   "version": "3.6.7"
  }
 },
 "nbformat": 4,
 "nbformat_minor": 2
}
