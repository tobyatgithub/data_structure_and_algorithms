{
 "cells": [
  {
   "cell_type": "code",
   "execution_count": 1,
   "metadata": {},
   "outputs": [
    {
     "data": {
      "text/plain": [
       "'\\nhttps://leetcode.com/explore/learn/card/array-and-string/201/introduction-to-array/1144/\\nGiven an array of integers nums, write a method that returns the \"pivot\" index of this array.\\n\\nWe define the pivot index as the index where the sum of the numbers to the left of the index \\nis equal to the sum of the numbers to the right of the index.\\n\\nIf no such index exists, we should return -1. If there are multiple pivot indexes, you should \\nreturn the left-most pivot index.\\n'"
      ]
     },
     "execution_count": 1,
     "metadata": {},
     "output_type": "execute_result"
    }
   ],
   "source": [
    "\"\"\"\n",
    "https://leetcode.com/explore/learn/card/array-and-string/201/introduction-to-array/1144/\n",
    "Given an array of integers nums, write a method that returns the \"pivot\" index of this array.\n",
    "\n",
    "We define the pivot index as the index where the sum of the numbers to the left of the index \n",
    "is equal to the sum of the numbers to the right of the index.\n",
    "\n",
    "If no such index exists, we should return -1. If there are multiple pivot indexes, you should \n",
    "return the left-most pivot index.\n",
    "\"\"\""
   ]
  },
  {
   "cell_type": "code",
   "execution_count": 2,
   "metadata": {},
   "outputs": [
    {
     "data": {
      "text/plain": [
       "3"
      ]
     },
     "execution_count": 2,
     "metadata": {},
     "output_type": "execute_result"
    }
   ],
   "source": [
    "# Solution 1\n",
    "class Solution:\n",
    "    def pivotIndex(self, nums):\n",
    "        \"\"\"\n",
    "        :type nums: List[int]\n",
    "        :rtype: int\n",
    "        \"\"\"\n",
    "        for i in range(len(nums)):\n",
    "            left = nums[:i]\n",
    "            right = nums[i+1:]\n",
    "            if sum(left) == sum(right):\n",
    "                return i\n",
    "        return -1\n",
    "    \n",
    "Solution.pivotIndex(Solution, nums=[1,7,3,6,5,6])    "
   ]
  },
  {
   "cell_type": "markdown",
   "metadata": {},
   "source": [
    "### Comment:\n",
    "The problem of this solution is sum() can be expensive to run it for every iteration"
   ]
  },
  {
   "cell_type": "code",
   "execution_count": 3,
   "metadata": {},
   "outputs": [
    {
     "data": {
      "text/plain": [
       "3"
      ]
     },
     "execution_count": 3,
     "metadata": {},
     "output_type": "execute_result"
    }
   ],
   "source": [
    "# Solution 1 improv - bad\n",
    "class Solution:\n",
    "    def pivotIndex(self, nums):\n",
    "        \"\"\"\n",
    "        :type nums: List[int]\n",
    "        :rtype: int\n",
    "        \"\"\"\n",
    "        if len(nums) == 0:\n",
    "            return -1        \n",
    "        total = sum(nums)\n",
    "        left = 0\n",
    "        right = total - nums[0]            \n",
    "        i = 0\n",
    "        for i in range(1, len(nums)):\n",
    "#             print(i, nums[i], left, right)\n",
    "            # judging based on i - 1 result\n",
    "            if left == right:\n",
    "                return i - 1\n",
    "            left += nums[i-1]\n",
    "            right -= nums[i]\n",
    "        return -1\n",
    "    \n",
    "Solution.pivotIndex(Solution, nums=[1,7,3,6,5,6])"
   ]
  },
  {
   "cell_type": "markdown",
   "metadata": {},
   "source": [
    "### Comment\n",
    "Seems ok but doesn't cover some edge case. (answer being last index.)"
   ]
  },
  {
   "cell_type": "code",
   "execution_count": 4,
   "metadata": {},
   "outputs": [
    {
     "data": {
      "text/plain": [
       "3"
      ]
     },
     "execution_count": 4,
     "metadata": {},
     "output_type": "execute_result"
    }
   ],
   "source": [
    "# Solution 1 improve v2\n",
    "class Solution:\n",
    "    def pivotIndex(self, nums):\n",
    "        \"\"\"\n",
    "        :type nums: List[int]\n",
    "        :rtype: int\n",
    "        \"\"\"\n",
    "        if len(nums) == 0:\n",
    "            return -1\n",
    "        total = sum(nums)\n",
    "        left = 0\n",
    "        right = total - nums[0]      \n",
    "        if left == right:\n",
    "            return 0\n",
    "        for i in range(1, len(nums)):\n",
    "            left += nums[i-1]\n",
    "            right -= nums[i]\n",
    "            if left == right:\n",
    "                return i            \n",
    "        return -1\n",
    "    \n",
    "Solution.pivotIndex(Solution, nums=[1,7,3,6,5,6])"
   ]
  },
  {
   "cell_type": "markdown",
   "metadata": {},
   "source": [
    "### Comment\n",
    "Passed."
   ]
  },
  {
   "cell_type": "code",
   "execution_count": 5,
   "metadata": {},
   "outputs": [],
   "source": [
    "# a = []\n",
    "# a[0]"
   ]
  },
  {
   "cell_type": "code",
   "execution_count": null,
   "metadata": {},
   "outputs": [],
   "source": []
  },
  {
   "cell_type": "code",
   "execution_count": null,
   "metadata": {},
   "outputs": [],
   "source": []
  }
 ],
 "metadata": {
  "kernelspec": {
   "display_name": "Python 3",
   "language": "python",
   "name": "python3"
  },
  "language_info": {
   "codemirror_mode": {
    "name": "ipython",
    "version": 3
   },
   "file_extension": ".py",
   "mimetype": "text/x-python",
   "name": "python",
   "nbconvert_exporter": "python",
   "pygments_lexer": "ipython3",
   "version": "3.6.7"
  }
 },
 "nbformat": 4,
 "nbformat_minor": 2
}
