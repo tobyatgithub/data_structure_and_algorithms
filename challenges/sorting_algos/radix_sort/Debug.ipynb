{
 "cells": [
  {
   "cell_type": "code",
   "execution_count": 1,
   "metadata": {},
   "outputs": [],
   "source": [
    "\"\"\"\n",
    "In this file, we implement radix sort. Radix sort is different from other sorting\n",
    "algorithms. Radix sort is a non-comparative integer sorting algorithm that sorts\n",
    "data with integer keys by grouping keys by the individual digits which share the\n",
    "same significant position and value.\n",
    "\"\"\"\n",
    "\n",
    "def radix_sort(in_list, b=10):\n",
    "    \"\"\"\n",
    "    this fucntion takes in an in_list contains numbers, sort the numbers\n",
    "    in it according to the digit defined by b. b is set to be 10 as default,\n",
    "    which will mean given [12, 42, 33], we will first sort the first digit\n",
    "    (2, 2, 3), and then the second digit (1, 4, 3) -> (1, 3, 4). Notice that\n",
    "    if we have tiers, we keep the original sequence.\n",
    "    Input: in_list a list with numbers, b a number indicates digit.\n",
    "    Output: a sorted list.\n",
    "    \"\"\"\n",
    "    # first we find the max number of time we need to iterate through\n",
    "    longest = 0\n",
    "    for i in in_list:\n",
    "        if len(str(i)) > longest:\n",
    "            longest = len(str(i))\n",
    "\n",
    "    # second, we know that at each digit, we at most can get b different\n",
    "    # values\n",
    "    for j in range(1, longest+1):\n",
    "        tmp = [[] for _ in range(b)]\n",
    "        for ele in in_list:\n",
    "            digit = int(str(ele)[-j])\n",
    "            tmp[digit].append(ele)\n",
    "        in_list = sum(tmp, [])\n",
    "\n",
    "    return in_list\n",
    "\n",
    "\n"
   ]
  },
  {
   "cell_type": "code",
   "execution_count": 5,
   "metadata": {},
   "outputs": [
    {
     "data": {
      "text/plain": [
       "[1, 2, 3]"
      ]
     },
     "execution_count": 5,
     "metadata": {},
     "output_type": "execute_result"
    }
   ],
   "source": [
    "tmp = radix_sort([3,2,1])\n",
    "tmp"
   ]
  },
  {
   "cell_type": "code",
   "execution_count": null,
   "metadata": {},
   "outputs": [],
   "source": []
  }
 ],
 "metadata": {
  "kernelspec": {
   "display_name": "Python 3",
   "language": "python",
   "name": "python3"
  },
  "language_info": {
   "codemirror_mode": {
    "name": "ipython",
    "version": 3
   },
   "file_extension": ".py",
   "mimetype": "text/x-python",
   "name": "python",
   "nbconvert_exporter": "python",
   "pygments_lexer": "ipython3",
   "version": "3.6.7"
  }
 },
 "nbformat": 4,
 "nbformat_minor": 2
}
