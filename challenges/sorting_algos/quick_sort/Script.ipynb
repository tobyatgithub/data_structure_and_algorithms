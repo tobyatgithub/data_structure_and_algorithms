{
 "cells": [
  {
   "cell_type": "code",
   "execution_count": 36,
   "metadata": {},
   "outputs": [
    {
     "name": "stdout",
     "output_type": "stream",
     "text": [
      "running partition with in_list = [5, 2, 3, 6, 22, 1, 32], start = 0, end = 6\n",
      "returning p = 4, with in_list = [1, 2, 3, 5, 6, 22, 32] \n",
      "\n",
      "calling quick_sort on left with in_list = [1, 2, 3, 5, 6, 22, 32], start = 0, end = 3\n",
      "running partition with in_list = [1, 2, 3, 5, 6, 22, 32], start = 0, end = 3\n",
      "returning p = 1, with in_list = [1, 2, 3, 5, 6, 22, 32] \n",
      "\n",
      "calling quick_sort on left with in_list = [1, 2, 3, 5, 6, 22, 32], start = 0, end = 0\n",
      "calling quick_sort on right with in_list = [1, 2, 3, 5, 6, 22, 32], start = 2, end = 3\n",
      "running partition with in_list = [1, 2, 3, 5, 6, 22, 32], start = 2, end = 3\n",
      "returning p = 2, with in_list = [1, 2, 3, 5, 6, 22, 32] \n",
      "\n",
      "calling quick_sort on left with in_list = [1, 2, 3, 5, 6, 22, 32], start = 2, end = 1\n",
      "calling quick_sort on right with in_list = [1, 2, 3, 5, 6, 22, 32], start = 3, end = 3\n",
      "calling quick_sort on right with in_list = [1, 2, 3, 5, 6, 22, 32], start = 5, end = 6\n",
      "running partition with in_list = [1, 2, 3, 5, 6, 22, 32], start = 5, end = 6\n",
      "returning p = 5, with in_list = [1, 2, 3, 5, 6, 22, 32] \n",
      "\n",
      "calling quick_sort on left with in_list = [1, 2, 3, 5, 6, 22, 32], start = 5, end = 4\n",
      "calling quick_sort on right with in_list = [1, 2, 3, 5, 6, 22, 32], start = 6, end = 6\n"
     ]
    },
    {
     "data": {
      "text/plain": [
       "[1, 2, 3, 5, 6, 22, 32]"
      ]
     },
     "execution_count": 36,
     "metadata": {},
     "output_type": "execute_result"
    }
   ],
   "source": [
    "\"\"\"\n",
    "In this file, we implement the classic quick sort with middle point\n",
    "for pivot value.\n",
    "\"\"\"\n",
    "\n",
    "\n",
    "def quick_sort(in_list, _start, _end):\n",
    "    \"\"\"\n",
    "    This quick_sort takes in a list as input, a _start int (usually 0) as the\n",
    "    starting point from which we want to sort, and a _end int (usually =len(in_list))\n",
    "    as the ending point from which we want to end sort.\n",
    "    e.g. for a in_list [3,5,11,2,-1,10],\n",
    "    if we want to sort the whole part: quick_sort(in_list, 0, 5)\n",
    "    if we only want to sort the later half: quick_sort(in_list, 3, 5)\n",
    "    \"\"\"\n",
    "    if _start < _end:\n",
    "        pivot = partition(in_list, _start, _end)\n",
    "        \n",
    "        print(\"calling quick_sort on left with in_list = {}, start = {}, end = {}\".format(in_list,_start,pivot-1))\n",
    "        quick_sort(in_list, _start, pivot-1)\n",
    "        print(\"calling quick_sort on right with in_list = {}, start = {}, end = {}\".format(in_list,pivot+1,_end))\n",
    "        quick_sort(in_list, pivot+1, _end)\n",
    "        \n",
    "\n",
    "def partition(in_list, _start, _end):\n",
    "    \"\"\"\n",
    "    Take in a list, randomly select a pivot point, order the list such\n",
    "    that all values smaller than the pivot point is on the left of pivot,\n",
    "    and all values larger than the pivot point is on the right of pivot,\n",
    "    and return a partition point\n",
    "    \"\"\"\n",
    "    print(\"running partition with in_list = {}, start = {}, end = {}\".format(in_list,_start, _end))\n",
    "    mid_point = (_end + _start)//2\n",
    "    # init swap, to avoid worst case.\n",
    "    init_position = _start\n",
    "    in_list[init_position], in_list[mid_point] = in_list[mid_point], in_list[init_position]\n",
    "    pivot = in_list[init_position]\n",
    "    recent_closed_position = _start\n",
    "    opened_positions = []\n",
    "    \n",
    "    for i in range(_start+1, _end):\n",
    "        # we need to keep track of opened value\n",
    "        tmp = in_list[i]\n",
    "        opened_positions.append(i)\n",
    "        if tmp < pivot:\n",
    "            to_switch = opened_positions.pop(0)\n",
    "            in_list[i], in_list[to_switch] = in_list[to_switch], in_list[i]\n",
    "            recent_closed_position = to_switch\n",
    "\n",
    "    # finish swap\n",
    "    in_list[_start], in_list[recent_closed_position] = in_list[recent_closed_position], in_list[_start]\n",
    "    print(\"returning p = {}, with in_list = {} \\n\".format(recent_closed_position, in_list))\n",
    "    return recent_closed_position\n",
    "\n",
    "\n",
    "\n",
    "tmp = [5,2,3,6,22,1,32]\n",
    "quick_sort(tmp, 0, 6)\n",
    "tmp"
   ]
  },
  {
   "cell_type": "code",
   "execution_count": 37,
   "metadata": {},
   "outputs": [
    {
     "data": {
      "text/plain": [
       "[1, 2, 3, 5, 6, 22, 32]"
      ]
     },
     "execution_count": 37,
     "metadata": {},
     "output_type": "execute_result"
    }
   ],
   "source": [
    "tmp"
   ]
  },
  {
   "cell_type": "code",
   "execution_count": 22,
   "metadata": {},
   "outputs": [
    {
     "data": {
      "text/plain": [
       "3"
      ]
     },
     "execution_count": 22,
     "metadata": {},
     "output_type": "execute_result"
    }
   ],
   "source": [
    "len(tmp)//2"
   ]
  },
  {
   "cell_type": "code",
   "execution_count": 24,
   "metadata": {},
   "outputs": [
    {
     "data": {
      "text/plain": [
       "[1, 2, 3]"
      ]
     },
     "execution_count": 24,
     "metadata": {},
     "output_type": "execute_result"
    }
   ],
   "source": [
    "[1, 2, 3, 5, 6, 22][0:3]"
   ]
  },
  {
   "cell_type": "code",
   "execution_count": 30,
   "metadata": {},
   "outputs": [],
   "source": [
    "for i in range(5,4):\n",
    "    print(i)"
   ]
  },
  {
   "cell_type": "code",
   "execution_count": null,
   "metadata": {},
   "outputs": [],
   "source": []
  }
 ],
 "metadata": {
  "kernelspec": {
   "display_name": "Python 3",
   "language": "python",
   "name": "python3"
  },
  "language_info": {
   "codemirror_mode": {
    "name": "ipython",
    "version": 3
   },
   "file_extension": ".py",
   "mimetype": "text/x-python",
   "name": "python",
   "nbconvert_exporter": "python",
   "pygments_lexer": "ipython3",
   "version": "3.6.7"
  }
 },
 "nbformat": 4,
 "nbformat_minor": 2
}
